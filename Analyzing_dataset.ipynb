{
 "cells": [
  {
   "cell_type": "markdown",
   "metadata": {},
   "source": [
    "This script helps us to get some insight from the dataset(mainly of images). Here i would like to see the variation of a handwritten character across all users by computing average of the images. Verificatin is done manually by looping through all classes individually. "
   ]
  },
  {
   "cell_type": "code",
   "execution_count": null,
   "metadata": {},
   "outputs": [],
   "source": [
    "# import all necessary packages\n",
    "import numpy as np\n",
    "import h5py\n",
    "from matplotlib import pyplot as plt\n",
    "from IPython.display import clear_output"
   ]
  },
  {
   "cell_type": "code",
   "execution_count": null,
   "metadata": {},
   "outputs": [],
   "source": [
    "# Import dataset [image and labels]\n",
    "raw = h5py.File('trainImages.h5','r')\n",
    "img = np.asarray(raw.get('images'))\n",
    "print(img.shape)\n",
    "raw = h5py.File('trainLabels.h5','r')\n",
    "label = np.asarray(raw.get('labels'))\n",
    "print(label.shape)"
   ]
  },
  {
   "cell_type": "code",
   "execution_count": null,
   "metadata": {},
   "outputs": [],
   "source": [
    "## Skip this\n",
    "img_10, label_10 = img[:10,:], label[:10,:] # load 10 images for sample to develop a code"
   ]
  },
  {
   "cell_type": "code",
   "execution_count": null,
   "metadata": {},
   "outputs": [],
   "source": [
    "# Get class number from one-hot encoded labels\n",
    "labelScalar = np.argmax(label_10,axis=1)\n",
    "\n",
    "for i in range(2):\n",
    "    clear_output()\n",
    "    # get img that belongs to class number 'x'\n",
    "    idx = np.where(labelScalar==i)\n",
    "    groupImg = img[idx]\n",
    "\n",
    "    #take the average of the image\n",
    "    avg_img = np.average(groupImg,axis=0)\n",
    "\n",
    "\n",
    "    # plot image\n",
    "    plt.imshow(avg_img.reshape((50,50)),cmap = 'binary',interpolation='sinc')\n",
    "    plt.xticks([])\n",
    "    plt.yticks([])\n",
    "    plt.show()\n",
    "    input()    "
   ]
  },
  {
   "cell_type": "code",
   "execution_count": null,
   "metadata": {},
   "outputs": [],
   "source": [
    "## Skip this\n",
    "# average along axis\n",
    "x = np.array([[1,2,3],[4,5,6],[7,8,9]])\n",
    "np.average(x,axis=1)"
   ]
  }
 ],
 "metadata": {
  "kernelspec": {
   "display_name": "Python 3",
   "language": "python",
   "name": "python3"
  },
  "language_info": {
   "codemirror_mode": {
    "name": "ipython",
    "version": 3
   },
   "file_extension": ".py",
   "mimetype": "text/x-python",
   "name": "python",
   "nbconvert_exporter": "python",
   "pygments_lexer": "ipython3",
   "version": "3.5.4"
  }
 },
 "nbformat": 4,
 "nbformat_minor": 2
}
